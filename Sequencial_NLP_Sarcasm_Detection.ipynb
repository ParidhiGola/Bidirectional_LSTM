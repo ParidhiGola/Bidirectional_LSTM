{
  "nbformat": 4,
  "nbformat_minor": 0,
  "metadata": {
    "accelerator": "GPU",
    "colab": {
      "name": "Sequencial_NLP_Sarcasm Detection.ipynb",
      "provenance": [],
      "collapsed_sections": []
    },
    "kernelspec": {
      "display_name": "Python 3",
      "language": "python",
      "name": "python3"
    },
    "language_info": {
      "codemirror_mode": {
        "name": "ipython",
        "version": 3
      },
      "file_extension": ".py",
      "mimetype": "text/x-python",
      "name": "python",
      "nbconvert_exporter": "python",
      "pygments_lexer": "ipython3",
      "version": "3.7.3"
    }
  },
  "cells": [
    {
      "cell_type": "markdown",
      "metadata": {
        "colab_type": "text",
        "id": "pp68FAQf9aMN"
      },
      "source": [
        "# Sarcasm Detection\n",
        "https://drive.google.com/drive/folders/1xUnF35naPGU63xwRDVGc-DkZ3M8V5mMk"
      ]
    },
    {
      "cell_type": "markdown",
      "metadata": {
        "id": "Eb2f-mkvZROs",
        "colab_type": "text"
      },
      "source": [
        "The goal is to build a model to detect whether a sentence is sarcastic or not, using\n",
        "Bidirectional LSTMs.\n"
      ]
    },
    {
      "cell_type": "markdown",
      "metadata": {
        "colab_type": "text",
        "id": "S3Wj_mIZ8S3K"
      },
      "source": [
        "## Install `Tensorflow2.0` "
      ]
    },
    {
      "cell_type": "code",
      "metadata": {
        "colab_type": "code",
        "id": "jW2Uk8otQvi8",
        "colab": {
          "base_uri": "https://localhost:8080/",
          "height": 1000
        },
        "outputId": "a2a92d2a-66ae-4f6c-bc98-88b93eb3b8f9"
      },
      "source": [
        "!!pip uninstall tensorflow\n",
        "!pip install tensorflow==2.0.0"
      ],
      "execution_count": null,
      "outputs": [
        {
          "output_type": "stream",
          "text": [
            "Collecting tensorflow==2.0.0\n",
            "\u001b[?25l  Downloading https://files.pythonhosted.org/packages/46/0f/7bd55361168bb32796b360ad15a25de6966c9c1beb58a8e30c01c8279862/tensorflow-2.0.0-cp36-cp36m-manylinux2010_x86_64.whl (86.3MB)\n",
            "\u001b[K     |████████████████████████████████| 86.3MB 47kB/s \n",
            "\u001b[?25hRequirement already satisfied: six>=1.10.0 in /usr/local/lib/python3.6/dist-packages (from tensorflow==2.0.0) (1.12.0)\n",
            "Requirement already satisfied: keras-applications>=1.0.8 in /usr/local/lib/python3.6/dist-packages (from tensorflow==2.0.0) (1.0.8)\n",
            "Collecting tensorflow-estimator<2.1.0,>=2.0.0\n",
            "\u001b[?25l  Downloading https://files.pythonhosted.org/packages/fc/08/8b927337b7019c374719145d1dceba21a8bb909b93b1ad6f8fb7d22c1ca1/tensorflow_estimator-2.0.1-py2.py3-none-any.whl (449kB)\n",
            "\u001b[K     |████████████████████████████████| 450kB 31.9MB/s \n",
            "\u001b[?25hRequirement already satisfied: wrapt>=1.11.1 in /usr/local/lib/python3.6/dist-packages (from tensorflow==2.0.0) (1.12.1)\n",
            "Collecting tensorboard<2.1.0,>=2.0.0\n",
            "\u001b[?25l  Downloading https://files.pythonhosted.org/packages/76/54/99b9d5d52d5cb732f099baaaf7740403e83fe6b0cedde940fabd2b13d75a/tensorboard-2.0.2-py3-none-any.whl (3.8MB)\n",
            "\u001b[K     |████████████████████████████████| 3.8MB 30.3MB/s \n",
            "\u001b[?25hRequirement already satisfied: google-pasta>=0.1.6 in /usr/local/lib/python3.6/dist-packages (from tensorflow==2.0.0) (0.2.0)\n",
            "Requirement already satisfied: astor>=0.6.0 in /usr/local/lib/python3.6/dist-packages (from tensorflow==2.0.0) (0.8.1)\n",
            "Requirement already satisfied: keras-preprocessing>=1.0.5 in /usr/local/lib/python3.6/dist-packages (from tensorflow==2.0.0) (1.1.2)\n",
            "Requirement already satisfied: numpy<2.0,>=1.16.0 in /usr/local/lib/python3.6/dist-packages (from tensorflow==2.0.0) (1.18.5)\n",
            "Requirement already satisfied: opt-einsum>=2.3.2 in /usr/local/lib/python3.6/dist-packages (from tensorflow==2.0.0) (3.2.1)\n",
            "Collecting gast==0.2.2\n",
            "  Downloading https://files.pythonhosted.org/packages/4e/35/11749bf99b2d4e3cceb4d55ca22590b0d7c2c62b9de38ac4a4a7f4687421/gast-0.2.2.tar.gz\n",
            "Requirement already satisfied: absl-py>=0.7.0 in /usr/local/lib/python3.6/dist-packages (from tensorflow==2.0.0) (0.9.0)\n",
            "Requirement already satisfied: protobuf>=3.6.1 in /usr/local/lib/python3.6/dist-packages (from tensorflow==2.0.0) (3.10.0)\n",
            "Requirement already satisfied: termcolor>=1.1.0 in /usr/local/lib/python3.6/dist-packages (from tensorflow==2.0.0) (1.1.0)\n",
            "Requirement already satisfied: wheel>=0.26 in /usr/local/lib/python3.6/dist-packages (from tensorflow==2.0.0) (0.34.2)\n",
            "Requirement already satisfied: grpcio>=1.8.6 in /usr/local/lib/python3.6/dist-packages (from tensorflow==2.0.0) (1.29.0)\n",
            "Requirement already satisfied: h5py in /usr/local/lib/python3.6/dist-packages (from keras-applications>=1.0.8->tensorflow==2.0.0) (2.10.0)\n",
            "Requirement already satisfied: requests<3,>=2.21.0 in /usr/local/lib/python3.6/dist-packages (from tensorboard<2.1.0,>=2.0.0->tensorflow==2.0.0) (2.23.0)\n",
            "Requirement already satisfied: google-auth-oauthlib<0.5,>=0.4.1 in /usr/local/lib/python3.6/dist-packages (from tensorboard<2.1.0,>=2.0.0->tensorflow==2.0.0) (0.4.1)\n",
            "Requirement already satisfied: werkzeug>=0.11.15 in /usr/local/lib/python3.6/dist-packages (from tensorboard<2.1.0,>=2.0.0->tensorflow==2.0.0) (1.0.1)\n",
            "Requirement already satisfied: google-auth<2,>=1.6.3 in /usr/local/lib/python3.6/dist-packages (from tensorboard<2.1.0,>=2.0.0->tensorflow==2.0.0) (1.17.2)\n",
            "Requirement already satisfied: setuptools>=41.0.0 in /usr/local/lib/python3.6/dist-packages (from tensorboard<2.1.0,>=2.0.0->tensorflow==2.0.0) (47.3.1)\n",
            "Requirement already satisfied: markdown>=2.6.8 in /usr/local/lib/python3.6/dist-packages (from tensorboard<2.1.0,>=2.0.0->tensorflow==2.0.0) (3.2.2)\n",
            "Requirement already satisfied: urllib3!=1.25.0,!=1.25.1,<1.26,>=1.21.1 in /usr/local/lib/python3.6/dist-packages (from requests<3,>=2.21.0->tensorboard<2.1.0,>=2.0.0->tensorflow==2.0.0) (1.24.3)\n",
            "Requirement already satisfied: idna<3,>=2.5 in /usr/local/lib/python3.6/dist-packages (from requests<3,>=2.21.0->tensorboard<2.1.0,>=2.0.0->tensorflow==2.0.0) (2.9)\n",
            "Requirement already satisfied: certifi>=2017.4.17 in /usr/local/lib/python3.6/dist-packages (from requests<3,>=2.21.0->tensorboard<2.1.0,>=2.0.0->tensorflow==2.0.0) (2020.4.5.2)\n",
            "Requirement already satisfied: chardet<4,>=3.0.2 in /usr/local/lib/python3.6/dist-packages (from requests<3,>=2.21.0->tensorboard<2.1.0,>=2.0.0->tensorflow==2.0.0) (3.0.4)\n",
            "Requirement already satisfied: requests-oauthlib>=0.7.0 in /usr/local/lib/python3.6/dist-packages (from google-auth-oauthlib<0.5,>=0.4.1->tensorboard<2.1.0,>=2.0.0->tensorflow==2.0.0) (1.3.0)\n",
            "Requirement already satisfied: rsa<5,>=3.1.4; python_version >= \"3\" in /usr/local/lib/python3.6/dist-packages (from google-auth<2,>=1.6.3->tensorboard<2.1.0,>=2.0.0->tensorflow==2.0.0) (4.6)\n",
            "Requirement already satisfied: cachetools<5.0,>=2.0.0 in /usr/local/lib/python3.6/dist-packages (from google-auth<2,>=1.6.3->tensorboard<2.1.0,>=2.0.0->tensorflow==2.0.0) (4.1.0)\n",
            "Requirement already satisfied: pyasn1-modules>=0.2.1 in /usr/local/lib/python3.6/dist-packages (from google-auth<2,>=1.6.3->tensorboard<2.1.0,>=2.0.0->tensorflow==2.0.0) (0.2.8)\n",
            "Requirement already satisfied: importlib-metadata; python_version < \"3.8\" in /usr/local/lib/python3.6/dist-packages (from markdown>=2.6.8->tensorboard<2.1.0,>=2.0.0->tensorflow==2.0.0) (1.6.1)\n",
            "Requirement already satisfied: oauthlib>=3.0.0 in /usr/local/lib/python3.6/dist-packages (from requests-oauthlib>=0.7.0->google-auth-oauthlib<0.5,>=0.4.1->tensorboard<2.1.0,>=2.0.0->tensorflow==2.0.0) (3.1.0)\n",
            "Requirement already satisfied: pyasn1>=0.1.3 in /usr/local/lib/python3.6/dist-packages (from rsa<5,>=3.1.4; python_version >= \"3\"->google-auth<2,>=1.6.3->tensorboard<2.1.0,>=2.0.0->tensorflow==2.0.0) (0.4.8)\n",
            "Requirement already satisfied: zipp>=0.5 in /usr/local/lib/python3.6/dist-packages (from importlib-metadata; python_version < \"3.8\"->markdown>=2.6.8->tensorboard<2.1.0,>=2.0.0->tensorflow==2.0.0) (3.1.0)\n",
            "Building wheels for collected packages: gast\n",
            "  Building wheel for gast (setup.py) ... \u001b[?25l\u001b[?25hdone\n",
            "  Created wheel for gast: filename=gast-0.2.2-cp36-none-any.whl size=7540 sha256=a27e670f39cbf2e23d63a97aa5013549735fade4fe80295b189ad200b60d1c36\n",
            "  Stored in directory: /root/.cache/pip/wheels/5c/2e/7e/a1d4d4fcebe6c381f378ce7743a3ced3699feb89bcfbdadadd\n",
            "Successfully built gast\n",
            "\u001b[31mERROR: tensorflow-probability 0.10.0 has requirement gast>=0.3.2, but you'll have gast 0.2.2 which is incompatible.\u001b[0m\n",
            "Installing collected packages: tensorflow-estimator, tensorboard, gast, tensorflow\n",
            "  Found existing installation: tensorflow-estimator 2.2.0\n",
            "    Uninstalling tensorflow-estimator-2.2.0:\n",
            "      Successfully uninstalled tensorflow-estimator-2.2.0\n",
            "  Found existing installation: tensorboard 2.2.2\n",
            "    Uninstalling tensorboard-2.2.2:\n",
            "      Successfully uninstalled tensorboard-2.2.2\n",
            "  Found existing installation: gast 0.3.3\n",
            "    Uninstalling gast-0.3.3:\n",
            "      Successfully uninstalled gast-0.3.3\n",
            "Successfully installed gast-0.2.2 tensorboard-2.0.2 tensorflow-2.0.0 tensorflow-estimator-2.0.1\n"
          ],
          "name": "stdout"
        }
      ]
    },
    {
      "cell_type": "markdown",
      "metadata": {
        "colab_type": "text",
        "id": "v9kv9tyJ77eF"
      },
      "source": [
        "## Get Required Files from Drive"
      ]
    },
    {
      "cell_type": "code",
      "metadata": {
        "colab_type": "code",
        "id": "D0O_n6OIEVyL",
        "colab": {
          "base_uri": "https://localhost:8080/",
          "height": 122
        },
        "outputId": "8b9d873d-83dc-4b4d-86f7-07a4959e1e4d"
      },
      "source": [
        "from google.colab import drive\n",
        "drive.mount('/content/drive/')"
      ],
      "execution_count": null,
      "outputs": [
        {
          "output_type": "stream",
          "text": [
            "Go to this URL in a browser: https://accounts.google.com/o/oauth2/auth?client_id=947318989803-6bn6qk8qdgf4n4g3pfee6491hc0brc4i.apps.googleusercontent.com&redirect_uri=urn%3aietf%3awg%3aoauth%3a2.0%3aoob&response_type=code&scope=email%20https%3a%2f%2fwww.googleapis.com%2fauth%2fdocs.test%20https%3a%2f%2fwww.googleapis.com%2fauth%2fdrive%20https%3a%2f%2fwww.googleapis.com%2fauth%2fdrive.photos.readonly%20https%3a%2f%2fwww.googleapis.com%2fauth%2fpeopleapi.readonly\n",
            "\n",
            "Enter your authorization code:\n",
            "··········\n",
            "Mounted at /content/drive/\n"
          ],
          "name": "stdout"
        }
      ]
    },
    {
      "cell_type": "code",
      "metadata": {
        "colab_type": "code",
        "id": "0mgRpOvFMjKR",
        "colab": {}
      },
      "source": [
        "#Set your project path \n",
        "project_path =  '/content/drive/My Drive/Paridhi_Colab/Sequential NLP Project/'"
      ],
      "execution_count": null,
      "outputs": []
    },
    {
      "cell_type": "markdown",
      "metadata": {
        "colab_type": "text",
        "id": "WXYwajPeQbRq"
      },
      "source": [
        "# Reading and Exploring Data"
      ]
    },
    {
      "cell_type": "markdown",
      "metadata": {
        "colab_type": "text",
        "id": "vAk6BRUh8CqL"
      },
      "source": [
        "## Read Data \"Sarcasm_Headlines_Dataset.json\".  "
      ]
    },
    {
      "cell_type": "code",
      "metadata": {
        "id": "rsjlRyBecVYE",
        "colab_type": "code",
        "colab": {}
      },
      "source": [
        "import pandas as pd\n",
        "import os"
      ],
      "execution_count": null,
      "outputs": []
    },
    {
      "cell_type": "code",
      "metadata": {
        "id": "CxYxDOsvsSYE",
        "colab_type": "code",
        "colab": {
          "base_uri": "https://localhost:8080/",
          "height": 85
        },
        "outputId": "5c2996d5-39a3-4ce6-db4b-70fe361d8a1c"
      },
      "source": [
        "!ls '/content/drive/My Drive/Paridhi_Colab/Sequential NLP Project'"
      ],
      "execution_count": null,
      "outputs": [
        {
          "output_type": "stream",
          "text": [
            " glove.6B.zip\n",
            " NLP_Project_Sarcasm_Detection_Questions.ipynb\n",
            " Sarcasm_Headlines_Dataset.json\n",
            "'Seq2Seq LSTM Model - Translation_with_prediction_Attention.ipynb'\n"
          ],
          "name": "stdout"
        }
      ]
    },
    {
      "cell_type": "code",
      "metadata": {
        "id": "57thQJMbwZlJ",
        "colab_type": "code",
        "colab": {
          "base_uri": "https://localhost:8080/",
          "height": 34
        },
        "outputId": "d88353db-ff5e-407a-cdd7-cddde08235c4"
      },
      "source": [
        "project_path"
      ],
      "execution_count": null,
      "outputs": [
        {
          "output_type": "execute_result",
          "data": {
            "text/plain": [
              "'/content/drive/My Drive/Paridhi_Colab/Sequential NLP Project/'"
            ]
          },
          "metadata": {
            "tags": []
          },
          "execution_count": 6
        }
      ]
    },
    {
      "cell_type": "markdown",
      "metadata": {
        "id": "wkj7QtYFwLci",
        "colab_type": "text"
      },
      "source": [
        "Sarcasm_Headlines_Dataset.json"
      ]
    },
    {
      "cell_type": "code",
      "metadata": {
        "colab_type": "code",
        "id": "StSLB-T8PuGr",
        "colab": {
          "base_uri": "https://localhost:8080/",
          "height": 204
        },
        "outputId": "e9098ce1-244c-453f-8d00-3c2affab7129"
      },
      "source": [
        "df = pd.read_json('/content/drive/My Drive/Paridhi_Colab/Sequential NLP Project/Sarcasm_Headlines_Dataset.json',lines = True)\n",
        "df.head()"
      ],
      "execution_count": null,
      "outputs": [
        {
          "output_type": "execute_result",
          "data": {
            "text/html": [
              "<div>\n",
              "<style scoped>\n",
              "    .dataframe tbody tr th:only-of-type {\n",
              "        vertical-align: middle;\n",
              "    }\n",
              "\n",
              "    .dataframe tbody tr th {\n",
              "        vertical-align: top;\n",
              "    }\n",
              "\n",
              "    .dataframe thead th {\n",
              "        text-align: right;\n",
              "    }\n",
              "</style>\n",
              "<table border=\"1\" class=\"dataframe\">\n",
              "  <thead>\n",
              "    <tr style=\"text-align: right;\">\n",
              "      <th></th>\n",
              "      <th>article_link</th>\n",
              "      <th>headline</th>\n",
              "      <th>is_sarcastic</th>\n",
              "    </tr>\n",
              "  </thead>\n",
              "  <tbody>\n",
              "    <tr>\n",
              "      <th>0</th>\n",
              "      <td>https://www.huffingtonpost.com/entry/versace-b...</td>\n",
              "      <td>former versace store clerk sues over secret 'b...</td>\n",
              "      <td>0</td>\n",
              "    </tr>\n",
              "    <tr>\n",
              "      <th>1</th>\n",
              "      <td>https://www.huffingtonpost.com/entry/roseanne-...</td>\n",
              "      <td>the 'roseanne' revival catches up to our thorn...</td>\n",
              "      <td>0</td>\n",
              "    </tr>\n",
              "    <tr>\n",
              "      <th>2</th>\n",
              "      <td>https://local.theonion.com/mom-starting-to-fea...</td>\n",
              "      <td>mom starting to fear son's web series closest ...</td>\n",
              "      <td>1</td>\n",
              "    </tr>\n",
              "    <tr>\n",
              "      <th>3</th>\n",
              "      <td>https://politics.theonion.com/boehner-just-wan...</td>\n",
              "      <td>boehner just wants wife to listen, not come up...</td>\n",
              "      <td>1</td>\n",
              "    </tr>\n",
              "    <tr>\n",
              "      <th>4</th>\n",
              "      <td>https://www.huffingtonpost.com/entry/jk-rowlin...</td>\n",
              "      <td>j.k. rowling wishes snape happy birthday in th...</td>\n",
              "      <td>0</td>\n",
              "    </tr>\n",
              "  </tbody>\n",
              "</table>\n",
              "</div>"
            ],
            "text/plain": [
              "                                        article_link  ... is_sarcastic\n",
              "0  https://www.huffingtonpost.com/entry/versace-b...  ...            0\n",
              "1  https://www.huffingtonpost.com/entry/roseanne-...  ...            0\n",
              "2  https://local.theonion.com/mom-starting-to-fea...  ...            1\n",
              "3  https://politics.theonion.com/boehner-just-wan...  ...            1\n",
              "4  https://www.huffingtonpost.com/entry/jk-rowlin...  ...            0\n",
              "\n",
              "[5 rows x 3 columns]"
            ]
          },
          "metadata": {
            "tags": []
          },
          "execution_count": 7
        }
      ]
    },
    {
      "cell_type": "code",
      "metadata": {
        "id": "IisqHO8JwiNt",
        "colab_type": "code",
        "colab": {
          "base_uri": "https://localhost:8080/",
          "height": 187
        },
        "outputId": "2e8ffba4-e141-4c4b-d9d8-88721ece08cf"
      },
      "source": [
        "df.info()"
      ],
      "execution_count": null,
      "outputs": [
        {
          "output_type": "stream",
          "text": [
            "<class 'pandas.core.frame.DataFrame'>\n",
            "RangeIndex: 26709 entries, 0 to 26708\n",
            "Data columns (total 3 columns):\n",
            " #   Column        Non-Null Count  Dtype \n",
            "---  ------        --------------  ----- \n",
            " 0   article_link  26709 non-null  object\n",
            " 1   headline      26709 non-null  object\n",
            " 2   is_sarcastic  26709 non-null  int64 \n",
            "dtypes: int64(1), object(2)\n",
            "memory usage: 626.1+ KB\n"
          ],
          "name": "stdout"
        }
      ]
    },
    {
      "cell_type": "code",
      "metadata": {
        "id": "dy_DbW1hw2uz",
        "colab_type": "code",
        "colab": {
          "base_uri": "https://localhost:8080/",
          "height": 85
        },
        "outputId": "c2f794ad-fded-4a94-e62d-b4f7c888ee96"
      },
      "source": [
        "df.isna().any()"
      ],
      "execution_count": null,
      "outputs": [
        {
          "output_type": "execute_result",
          "data": {
            "text/plain": [
              "article_link    False\n",
              "headline        False\n",
              "is_sarcastic    False\n",
              "dtype: bool"
            ]
          },
          "metadata": {
            "tags": []
          },
          "execution_count": 9
        }
      ]
    },
    {
      "cell_type": "code",
      "metadata": {
        "id": "VzkYNFVOyHdn",
        "colab_type": "code",
        "colab": {
          "base_uri": "https://localhost:8080/",
          "height": 68
        },
        "outputId": "3c5cee95-d503-4080-9252-1fa4d7a5be6f"
      },
      "source": [
        "print('Different values in the target column:' , df['is_sarcastic'].unique())\n",
        "print(df['headline'].nunique()) \n",
        "print(df['article_link'].nunique()) "
      ],
      "execution_count": null,
      "outputs": [
        {
          "output_type": "stream",
          "text": [
            "Different values in the target column: [0 1]\n",
            "26602\n",
            "26708\n"
          ],
          "name": "stdout"
        }
      ]
    },
    {
      "cell_type": "code",
      "metadata": {
        "id": "XzyLFPsDxAXl",
        "colab_type": "code",
        "colab": {
          "base_uri": "https://localhost:8080/",
          "height": 68
        },
        "outputId": "fc21afac-3b1f-4674-d242-6472b050dc2e"
      },
      "source": [
        "df['is_sarcastic'].value_counts()"
      ],
      "execution_count": null,
      "outputs": [
        {
          "output_type": "execute_result",
          "data": {
            "text/plain": [
              "0    14985\n",
              "1    11724\n",
              "Name: is_sarcastic, dtype: int64"
            ]
          },
          "metadata": {
            "tags": []
          },
          "execution_count": 11
        }
      ]
    },
    {
      "cell_type": "code",
      "metadata": {
        "id": "kFfIHkIqxMb0",
        "colab_type": "code",
        "colab": {
          "base_uri": "https://localhost:8080/",
          "height": 356
        },
        "outputId": "b4754e51-f032-4ca9-a10b-26946418cae3"
      },
      "source": [
        "import seaborn as sns\n",
        "sns.set(style=\"darkgrid\")\n",
        "sns.countplot(df['is_sarcastic'])"
      ],
      "execution_count": null,
      "outputs": [
        {
          "output_type": "stream",
          "text": [
            "/usr/local/lib/python3.6/dist-packages/statsmodels/tools/_testing.py:19: FutureWarning: pandas.util.testing is deprecated. Use the functions in the public API at pandas.testing instead.\n",
            "  import pandas.util.testing as tm\n"
          ],
          "name": "stderr"
        },
        {
          "output_type": "execute_result",
          "data": {
            "text/plain": [
              "<matplotlib.axes._subplots.AxesSubplot at 0x7fe10fc27048>"
            ]
          },
          "metadata": {
            "tags": []
          },
          "execution_count": 12
        },
        {
          "output_type": "display_data",
          "data": {
            "image/png": "[encoded data removed]",
            "text/plain": [
              "<Figure size 432x288 with 1 Axes>"
            ]
          },
          "metadata": {
            "tags": []
          }
        }
      ]
    },
    {
      "cell_type": "markdown",
      "metadata": {
        "id": "uWaWgpq7xxjH",
        "colab_type": "text"
      },
      "source": [
        "1 if the record is sarcastic otherwise 0"
      ]
    },
    {
      "cell_type": "markdown",
      "metadata": {
        "colab_type": "text",
        "id": "z6pXf7A78E2H"
      },
      "source": [
        "# Drop `article_link` from dataset\n",
        "As we only need headline text data and is_sarcastic column for this project. We can drop artical link column here."
      ]
    },
    {
      "cell_type": "code",
      "metadata": {
        "colab_type": "code",
        "id": "VLSVsvrlP9qD",
        "colab": {}
      },
      "source": [
        "df.drop(['article_link'],axis = 1, inplace = True)"
      ],
      "execution_count": null,
      "outputs": []
    },
    {
      "cell_type": "code",
      "metadata": {
        "id": "og6iHcYoz-se",
        "colab_type": "code",
        "colab": {
          "base_uri": "https://localhost:8080/",
          "height": 80
        },
        "outputId": "da8adac8-3a2a-46e5-d4e4-198c004fd4a8"
      },
      "source": [
        "df.head(1)"
      ],
      "execution_count": null,
      "outputs": [
        {
          "output_type": "execute_result",
          "data": {
            "text/html": [
              "<div>\n",
              "<style scoped>\n",
              "    .dataframe tbody tr th:only-of-type {\n",
              "        vertical-align: middle;\n",
              "    }\n",
              "\n",
              "    .dataframe tbody tr th {\n",
              "        vertical-align: top;\n",
              "    }\n",
              "\n",
              "    .dataframe thead th {\n",
              "        text-align: right;\n",
              "    }\n",
              "</style>\n",
              "<table border=\"1\" class=\"dataframe\">\n",
              "  <thead>\n",
              "    <tr style=\"text-align: right;\">\n",
              "      <th></th>\n",
              "      <th>headline</th>\n",
              "      <th>is_sarcastic</th>\n",
              "    </tr>\n",
              "  </thead>\n",
              "  <tbody>\n",
              "    <tr>\n",
              "      <th>0</th>\n",
              "      <td>former versace store clerk sues over secret 'b...</td>\n",
              "      <td>0</td>\n",
              "    </tr>\n",
              "  </tbody>\n",
              "</table>\n",
              "</div>"
            ],
            "text/plain": [
              "                                            headline  is_sarcastic\n",
              "0  former versace store clerk sues over secret 'b...             0"
            ]
          },
          "metadata": {
            "tags": []
          },
          "execution_count": 14
        }
      ]
    },
    {
      "cell_type": "code",
      "metadata": {
        "id": "tGxGSt7M0OLQ",
        "colab_type": "code",
        "colab": {
          "base_uri": "https://localhost:8080/",
          "height": 68
        },
        "outputId": "a3385145-862d-4a68-a747-f10edde1c5da"
      },
      "source": [
        "# Find a duplicate rows\n",
        "df[df.duplicated(['headline','is_sarcastic'])].count()"
      ],
      "execution_count": null,
      "outputs": [
        {
          "output_type": "execute_result",
          "data": {
            "text/plain": [
              "headline        107\n",
              "is_sarcastic    107\n",
              "dtype: int64"
            ]
          },
          "metadata": {
            "tags": []
          },
          "execution_count": 15
        }
      ]
    },
    {
      "cell_type": "code",
      "metadata": {
        "id": "R5m2LZ-d2Fup",
        "colab_type": "code",
        "colab": {}
      },
      "source": [
        "df.drop_duplicates(subset=['headline','is_sarcastic'],inplace = True)"
      ],
      "execution_count": null,
      "outputs": []
    },
    {
      "cell_type": "code",
      "metadata": {
        "id": "-trTQKHi2HjM",
        "colab_type": "code",
        "colab": {
          "base_uri": "https://localhost:8080/",
          "height": 170
        },
        "outputId": "0e549e65-1eaa-4c55-dab9-9329c9ca3d3d"
      },
      "source": [
        "df.info() #26709-107 = 26602"
      ],
      "execution_count": null,
      "outputs": [
        {
          "output_type": "stream",
          "text": [
            "<class 'pandas.core.frame.DataFrame'>\n",
            "Int64Index: 26602 entries, 0 to 26708\n",
            "Data columns (total 2 columns):\n",
            " #   Column        Non-Null Count  Dtype \n",
            "---  ------        --------------  ----- \n",
            " 0   headline      26602 non-null  object\n",
            " 1   is_sarcastic  26602 non-null  int64 \n",
            "dtypes: int64(1), object(1)\n",
            "memory usage: 623.5+ KB\n"
          ],
          "name": "stdout"
        }
      ]
    },
    {
      "cell_type": "code",
      "metadata": {
        "id": "sxRU8Sl83HUZ",
        "colab_type": "code",
        "colab": {
          "base_uri": "https://localhost:8080/",
          "height": 68
        },
        "outputId": "94fe30f0-1019-4a9b-d1e5-828ea1ad9e58"
      },
      "source": [
        "# lets check again\n",
        "df[df.duplicated(['headline','is_sarcastic'])].count()"
      ],
      "execution_count": null,
      "outputs": [
        {
          "output_type": "execute_result",
          "data": {
            "text/plain": [
              "headline        0\n",
              "is_sarcastic    0\n",
              "dtype: int64"
            ]
          },
          "metadata": {
            "tags": []
          },
          "execution_count": 18
        }
      ]
    },
    {
      "cell_type": "markdown",
      "metadata": {
        "colab_type": "text",
        "id": "D0h6IOxU8OdH"
      },
      "source": [
        "# Get the Length of each line and find the maximum length\n",
        "As different lines are of different length. We need to pad the our sequences using the max length."
      ]
    },
    {
      "cell_type": "code",
      "metadata": {
        "colab_type": "code",
        "id": "BRAsChZAQmr3",
        "colab": {
          "base_uri": "https://localhost:8080/",
          "height": 34
        },
        "outputId": "764b6f89-f0bf-43e0-f0fa-0274addc26fa"
      },
      "source": [
        "#print(pd.Series({c: df[c].map(lambda x: len(str(x))).max() for c in df}))\n",
        "import numpy as np\n",
        "measurer = np.vectorize(len)\n",
        "measurer(df['headline'].astype(str))"
      ],
      "execution_count": null,
      "outputs": [
        {
          "output_type": "execute_result",
          "data": {
            "text/plain": [
              "array([78, 84, 79, ..., 21, 60, 33])"
            ]
          },
          "metadata": {
            "tags": []
          },
          "execution_count": 19
        }
      ]
    },
    {
      "cell_type": "code",
      "metadata": {
        "id": "Xlqtr_kGWZKd",
        "colab_type": "code",
        "colab": {
          "base_uri": "https://localhost:8080/",
          "height": 85
        },
        "outputId": "911f46e4-e2f1-4a3b-e4d7-0157b0c59eae"
      },
      "source": [
        "for a in df['headline']:\n",
        "  if len(a) > 200:\n",
        "    print(len(a)) "
      ],
      "execution_count": null,
      "outputs": [
        {
          "output_type": "stream",
          "text": [
            "237\n",
            "238\n",
            "254\n",
            "228\n"
          ],
          "name": "stdout"
        }
      ]
    },
    {
      "cell_type": "code",
      "metadata": {
        "id": "GkeCu6IpVDL0",
        "colab_type": "code",
        "colab": {
          "base_uri": "https://localhost:8080/",
          "height": 34
        },
        "outputId": "01f68686-4d64-45c4-cb1e-1d98a8c8668d"
      },
      "source": [
        "measurer(df['headline'].astype(str)).max()"
      ],
      "execution_count": null,
      "outputs": [
        {
          "output_type": "execute_result",
          "data": {
            "text/plain": [
              "254"
            ]
          },
          "metadata": {
            "tags": []
          },
          "execution_count": 21
        }
      ]
    },
    {
      "cell_type": "code",
      "metadata": {
        "id": "Ht14ZUs25OO5",
        "colab_type": "code",
        "colab": {}
      },
      "source": [
        "#Define maximum number of words to consider in each headline\n",
        "#max_headline_length = 254"
      ],
      "execution_count": null,
      "outputs": []
    },
    {
      "cell_type": "markdown",
      "metadata": {
        "id": "EbSdSEO2sLDO",
        "colab_type": "text"
      },
      "source": [
        "Other way for max length"
      ]
    },
    {
      "cell_type": "code",
      "metadata": {
        "id": "qXBCSX2Rl2XE",
        "colab_type": "code",
        "colab": {
          "base_uri": "https://localhost:8080/",
          "height": 34
        },
        "outputId": "07f2eb2d-ab61-41d7-d9ca-bc45b7aef310"
      },
      "source": [
        "#Maximum length of sentence\n",
        "maxlen = max([len(txt) for txt in df['headline']])\n",
        "print('Maximum sentence length for Source language: ', maxlen)"
      ],
      "execution_count": null,
      "outputs": [
        {
          "output_type": "stream",
          "text": [
            "Maximum sentence length for Source language:  254\n"
          ],
          "name": "stdout"
        }
      ]
    },
    {
      "cell_type": "markdown",
      "metadata": {
        "colab_type": "text",
        "id": "VPPd0YuPXi2M"
      },
      "source": [
        "# Modelling"
      ]
    },
    {
      "cell_type": "code",
      "metadata": {
        "colab_type": "code",
        "id": "DVel73hYEV4r",
        "colab": {}
      },
      "source": [
        "import numpy as np\n",
        "from tensorflow.keras import backend\n",
        "\n",
        "from tensorflow.keras.preprocessing.text import Tokenizer\n",
        "from tensorflow.keras.preprocessing.sequence import pad_sequences\n",
        "from tensorflow.keras.layers import Dense, Input, LSTM, Embedding, Dropout, Activation, Flatten, Bidirectional, GlobalMaxPool1D\n",
        "from tensorflow.keras.models import Model, Sequential"
      ],
      "execution_count": null,
      "outputs": []
    },
    {
      "cell_type": "markdown",
      "metadata": {
        "colab_type": "text",
        "id": "9ziybaD1RdD9"
      },
      "source": [
        "# Set Different Parameters "
      ]
    },
    {
      "cell_type": "code",
      "metadata": {
        "colab_type": "code",
        "id": "jPw9gAN_EV6m",
        "colab": {}
      },
      "source": [
        "max_features = 10000\n",
        "#maxlen = 254\n",
        "embedding_size = 200"
      ],
      "execution_count": null,
      "outputs": []
    },
    {
      "cell_type": "markdown",
      "metadata": {
        "colab_type": "text",
        "id": "9abSe-bM8fn9"
      },
      "source": [
        "## Apply Keras Tokenizer \n"
      ]
    },
    {
      "cell_type": "code",
      "metadata": {
        "id": "w0-4mMBjjbjw",
        "colab_type": "code",
        "colab": {}
      },
      "source": [
        "headline_text = df['headline']"
      ],
      "execution_count": null,
      "outputs": []
    },
    {
      "cell_type": "code",
      "metadata": {
        "colab_type": "code",
        "id": "T9Ad26HfTFMS",
        "colab": {}
      },
      "source": [
        "#Tokenizer for headline column\n",
        "tokenizer = Tokenizer(num_words=max_features)\n",
        "tokenizer.fit_on_texts(headline_text) #Fit it on Source sentences"
      ],
      "execution_count": null,
      "outputs": []
    },
    {
      "cell_type": "code",
      "metadata": {
        "id": "jcl1GZizcwE9",
        "colab_type": "code",
        "colab": {
          "base_uri": "https://localhost:8080/",
          "height": 221
        },
        "outputId": "c7b77fe9-dae6-45a2-b3bd-fbcc81f47d76"
      },
      "source": [
        "headline_text"
      ],
      "execution_count": null,
      "outputs": [
        {
          "output_type": "execute_result",
          "data": {
            "text/plain": [
              "0        former versace store clerk sues over secret 'b...\n",
              "1        the 'roseanne' revival catches up to our thorn...\n",
              "2        mom starting to fear son's web series closest ...\n",
              "3        boehner just wants wife to listen, not come up...\n",
              "4        j.k. rowling wishes snape happy birthday in th...\n",
              "                               ...                        \n",
              "26704                 american politics in moral free-fall\n",
              "26705                              america's best 20 hikes\n",
              "26706                                reparations and obama\n",
              "26707    israeli ban targeting boycott supporters raise...\n",
              "26708                    gourmet gifts for the foodie 2014\n",
              "Name: headline, Length: 26602, dtype: object"
            ]
          },
          "metadata": {
            "tags": []
          },
          "execution_count": 28
        }
      ]
    },
    {
      "cell_type": "markdown",
      "metadata": {
        "colab_type": "text",
        "id": "0Ffi63KsST3P"
      },
      "source": [
        "# Define X and y "
      ]
    },
    {
      "cell_type": "code",
      "metadata": {
        "colab_type": "code",
        "id": "wnjxBdqmSS4s",
        "colab": {
          "base_uri": "https://localhost:8080/",
          "height": 391
        },
        "outputId": "ef479b67-996b-4477-fab6-60f24aa360b3"
      },
      "source": [
        "X = tokenizer.texts_to_sequences(headline_text)\n",
        "X = pad_sequences(X, maxlen = maxlen)\n",
        "y = np.asarray(df['is_sarcastic'])\n",
        "\n",
        "print(\"Number of Samples:\", len(X))\n",
        "print(X[0])\n",
        "print(\"Number of Labels: \", len(y))\n",
        "print(y[0])"
      ],
      "execution_count": null,
      "outputs": [
        {
          "output_type": "stream",
          "text": [
            "Number of Samples: 26602\n",
            "[   0    0    0    0    0    0    0    0    0    0    0    0    0    0\n",
            "    0    0    0    0    0    0    0    0    0    0    0    0    0    0\n",
            "    0    0    0    0    0    0    0    0    0    0    0    0    0    0\n",
            "    0    0    0    0    0    0    0    0    0    0    0    0    0    0\n",
            "    0    0    0    0    0    0    0    0    0    0    0    0    0    0\n",
            "    0    0    0    0    0    0    0    0    0    0    0    0    0    0\n",
            "    0    0    0    0    0    0    0    0    0    0    0    0    0    0\n",
            "    0    0    0    0    0    0    0    0    0    0    0    0    0    0\n",
            "    0    0    0    0    0    0    0    0    0    0    0    0    0    0\n",
            "    0    0    0    0    0    0    0    0    0    0    0    0    0    0\n",
            "    0    0    0    0    0    0    0    0    0    0    0    0    0    0\n",
            "    0    0    0    0    0    0    0    0    0    0    0    0    0    0\n",
            "    0    0    0    0    0    0    0    0    0    0    0    0    0    0\n",
            "    0    0    0    0    0    0    0    0    0    0    0    0    0    0\n",
            "    0    0    0    0    0    0    0    0    0    0    0    0    0    0\n",
            "    0    0    0    0    0    0    0    0    0    0    0    0    0    0\n",
            "    0    0    0    0    0    0    0    0    0    0    0    0    0    0\n",
            "    0    0    0    0    0    0  307  676 3610 2292   47  381 2565    5\n",
            " 2566 8412]\n",
            "Number of Labels:  26602\n",
            "0\n"
          ],
          "name": "stdout"
        }
      ]
    },
    {
      "cell_type": "markdown",
      "metadata": {
        "colab_type": "text",
        "id": "WJLyKg-98rH_"
      },
      "source": [
        "#Vocabulary size \n"
      ]
    },
    {
      "cell_type": "code",
      "metadata": {
        "colab_type": "code",
        "id": "q-2w0gHEUUIo",
        "colab": {
          "base_uri": "https://localhost:8080/",
          "height": 34
        },
        "outputId": "45672531-c32a-4392-b657-0bf1a085d0a7"
      },
      "source": [
        "#Vocablury\n",
        "vocab_size = len(tokenizer.word_index)\n",
        "print('vocablury size: ', vocab_size)"
      ],
      "execution_count": null,
      "outputs": [
        {
          "output_type": "stream",
          "text": [
            "vocablury size:  29656\n"
          ],
          "name": "stdout"
        }
      ]
    },
    {
      "cell_type": "markdown",
      "metadata": {
        "id": "JJxuvqVVeS95",
        "colab_type": "text"
      },
      "source": [
        "Indices of words"
      ]
    },
    {
      "cell_type": "code",
      "metadata": {
        "id": "0FTIvr5OeJLV",
        "colab_type": "code",
        "colab": {
          "base_uri": "https://localhost:8080/",
          "height": 1000
        },
        "outputId": "c60558af-b093-48b2-818c-f1f0c33ec043"
      },
      "source": [
        "tokenizer.word_index"
      ],
      "execution_count": null,
      "outputs": [
        {
          "output_type": "execute_result",
          "data": {
            "text/plain": [
              "{'to': 1,\n",
              " 'of': 2,\n",
              " 'the': 3,\n",
              " 'in': 4,\n",
              " 'for': 5,\n",
              " 'a': 6,\n",
              " 'on': 7,\n",
              " 'and': 8,\n",
              " 'with': 9,\n",
              " 'is': 10,\n",
              " 'new': 11,\n",
              " 'trump': 12,\n",
              " 'man': 13,\n",
              " 'from': 14,\n",
              " 'at': 15,\n",
              " 'about': 16,\n",
              " 'you': 17,\n",
              " 'by': 18,\n",
              " 'this': 19,\n",
              " 'after': 20,\n",
              " 'up': 21,\n",
              " 'out': 22,\n",
              " 'be': 23,\n",
              " 'how': 24,\n",
              " 'as': 25,\n",
              " 'it': 26,\n",
              " 'that': 27,\n",
              " 'not': 28,\n",
              " 'are': 29,\n",
              " 'your': 30,\n",
              " 'his': 31,\n",
              " 'what': 32,\n",
              " 'he': 33,\n",
              " 'all': 34,\n",
              " 'just': 35,\n",
              " 'who': 36,\n",
              " 'has': 37,\n",
              " 'will': 38,\n",
              " 'more': 39,\n",
              " 'one': 40,\n",
              " 'report': 41,\n",
              " 'into': 42,\n",
              " 'year': 43,\n",
              " 'why': 44,\n",
              " 'have': 45,\n",
              " 'area': 46,\n",
              " 'over': 47,\n",
              " 'donald': 48,\n",
              " 'u': 49,\n",
              " 'day': 50,\n",
              " 's': 51,\n",
              " 'says': 52,\n",
              " 'can': 53,\n",
              " 'first': 54,\n",
              " 'woman': 55,\n",
              " 'time': 56,\n",
              " 'like': 57,\n",
              " 'her': 58,\n",
              " \"trump's\": 59,\n",
              " 'old': 60,\n",
              " 'no': 61,\n",
              " 'get': 62,\n",
              " 'off': 63,\n",
              " 'an': 64,\n",
              " 'life': 65,\n",
              " 'people': 66,\n",
              " 'obama': 67,\n",
              " 'now': 68,\n",
              " 'house': 69,\n",
              " 'still': 70,\n",
              " 'make': 71,\n",
              " 'was': 72,\n",
              " 'than': 73,\n",
              " \"'\": 74,\n",
              " 'white': 75,\n",
              " 'back': 76,\n",
              " 'women': 77,\n",
              " 'my': 78,\n",
              " 'i': 79,\n",
              " 'clinton': 80,\n",
              " 'down': 81,\n",
              " 'if': 82,\n",
              " '5': 83,\n",
              " 'when': 84,\n",
              " 'world': 85,\n",
              " 'could': 86,\n",
              " 'we': 87,\n",
              " 'their': 88,\n",
              " 'before': 89,\n",
              " 'americans': 90,\n",
              " 'do': 91,\n",
              " 'family': 92,\n",
              " 'way': 93,\n",
              " 'most': 94,\n",
              " 'gop': 95,\n",
              " 'they': 96,\n",
              " 'study': 97,\n",
              " 'school': 98,\n",
              " \"it's\": 99,\n",
              " 'black': 100,\n",
              " 'years': 101,\n",
              " 'best': 102,\n",
              " 'bill': 103,\n",
              " 'should': 104,\n",
              " '3': 105,\n",
              " 'would': 106,\n",
              " 'police': 107,\n",
              " 'so': 108,\n",
              " 'him': 109,\n",
              " 'watch': 110,\n",
              " 'american': 111,\n",
              " 'really': 112,\n",
              " 'being': 113,\n",
              " 'but': 114,\n",
              " 'last': 115,\n",
              " 'only': 116,\n",
              " 'know': 117,\n",
              " '10': 118,\n",
              " \"can't\": 119,\n",
              " 'home': 120,\n",
              " 'during': 121,\n",
              " 'death': 122,\n",
              " 'video': 123,\n",
              " 'finds': 124,\n",
              " 'state': 125,\n",
              " 'or': 126,\n",
              " 'president': 127,\n",
              " 'going': 128,\n",
              " 'health': 129,\n",
              " 'say': 130,\n",
              " 'good': 131,\n",
              " 'show': 132,\n",
              " 'things': 133,\n",
              " \"'the\": 134,\n",
              " 'hillary': 135,\n",
              " '2': 136,\n",
              " 'may': 137,\n",
              " 'against': 138,\n",
              " 'nation': 139,\n",
              " 'she': 140,\n",
              " 'campaign': 141,\n",
              " 'love': 142,\n",
              " 'every': 143,\n",
              " 'mom': 144,\n",
              " 'need': 145,\n",
              " 'big': 146,\n",
              " 'right': 147,\n",
              " '000': 148,\n",
              " 'party': 149,\n",
              " 'too': 150,\n",
              " 'gets': 151,\n",
              " 'getting': 152,\n",
              " 'these': 153,\n",
              " 'kids': 154,\n",
              " 'some': 155,\n",
              " 'work': 156,\n",
              " 'court': 157,\n",
              " 'little': 158,\n",
              " 'change': 159,\n",
              " 'take': 160,\n",
              " 'high': 161,\n",
              " 'makes': 162,\n",
              " 'parents': 163,\n",
              " 'our': 164,\n",
              " 'self': 165,\n",
              " 'calls': 166,\n",
              " 'john': 167,\n",
              " 'news': 168,\n",
              " 'other': 169,\n",
              " \"doesn't\": 170,\n",
              " 'while': 171,\n",
              " \"here's\": 172,\n",
              " 'through': 173,\n",
              " 'never': 174,\n",
              " 'child': 175,\n",
              " 'look': 176,\n",
              " 'election': 177,\n",
              " 'want': 178,\n",
              " 'gay': 179,\n",
              " 'dead': 180,\n",
              " 'own': 181,\n",
              " '4': 182,\n",
              " \"don't\": 183,\n",
              " 'see': 184,\n",
              " 'takes': 185,\n",
              " 'america': 186,\n",
              " '7': 187,\n",
              " 'local': 188,\n",
              " 'real': 189,\n",
              " 'next': 190,\n",
              " 'stop': 191,\n",
              " 'its': 192,\n",
              " 'even': 193,\n",
              " 'war': 194,\n",
              " 'college': 195,\n",
              " '6': 196,\n",
              " 'go': 197,\n",
              " \"he's\": 198,\n",
              " \"nation's\": 199,\n",
              " 'sex': 200,\n",
              " 'where': 201,\n",
              " 'bush': 202,\n",
              " 'made': 203,\n",
              " 'plan': 204,\n",
              " 'office': 205,\n",
              " 'again': 206,\n",
              " 'two': 207,\n",
              " 'guy': 208,\n",
              " 'another': 209,\n",
              " 'dad': 210,\n",
              " 'around': 211,\n",
              " 'dog': 212,\n",
              " 'got': 213,\n",
              " 'million': 214,\n",
              " 'ever': 215,\n",
              " '1': 216,\n",
              " 'baby': 217,\n",
              " 'debate': 218,\n",
              " 'thing': 219,\n",
              " 'gun': 220,\n",
              " 'wants': 221,\n",
              " 'care': 222,\n",
              " 'them': 223,\n",
              " 'us': 224,\n",
              " 'help': 225,\n",
              " 'much': 226,\n",
              " 'long': 227,\n",
              " 'night': 228,\n",
              " 'job': 229,\n",
              " 'finally': 230,\n",
              " 'congress': 231,\n",
              " 'north': 232,\n",
              " 'been': 233,\n",
              " 'under': 234,\n",
              " \"man's\": 235,\n",
              " 'actually': 236,\n",
              " 'star': 237,\n",
              " 'live': 238,\n",
              " 'climate': 239,\n",
              " 'national': 240,\n",
              " 'season': 241,\n",
              " 'couple': 242,\n",
              " 'money': 243,\n",
              " \"won't\": 244,\n",
              " '8': 245,\n",
              " '9': 246,\n",
              " 'week': 247,\n",
              " 'top': 248,\n",
              " 'anti': 249,\n",
              " 'media': 250,\n",
              " 'ways': 251,\n",
              " 'god': 252,\n",
              " 'shows': 253,\n",
              " 'sexual': 254,\n",
              " 'food': 255,\n",
              " 'better': 256,\n",
              " 'give': 257,\n",
              " 'shooting': 258,\n",
              " 'had': 259,\n",
              " 'teen': 260,\n",
              " 'face': 261,\n",
              " 'making': 262,\n",
              " 'paul': 263,\n",
              " 'game': 264,\n",
              " 'me': 265,\n",
              " 'trying': 266,\n",
              " 'senate': 267,\n",
              " 'supreme': 268,\n",
              " 'announces': 269,\n",
              " 'reveals': 270,\n",
              " 'there': 271,\n",
              " 'away': 272,\n",
              " 'men': 273,\n",
              " 'history': 274,\n",
              " 'business': 275,\n",
              " 'bad': 276,\n",
              " 'without': 277,\n",
              " 'students': 278,\n",
              " 'attack': 279,\n",
              " 'end': 280,\n",
              " 'story': 281,\n",
              " 'fight': 282,\n",
              " '20': 283,\n",
              " 'facebook': 284,\n",
              " 'everyone': 285,\n",
              " 'son': 286,\n",
              " 'free': 287,\n",
              " 'children': 288,\n",
              " 'enough': 289,\n",
              " 'tv': 290,\n",
              " 'law': 291,\n",
              " 'movie': 292,\n",
              " 'city': 293,\n",
              " 'introduces': 294,\n",
              " 'any': 295,\n",
              " 'deal': 296,\n",
              " 'government': 297,\n",
              " 'body': 298,\n",
              " 'pope': 299,\n",
              " 'part': 300,\n",
              " 'york': 301,\n",
              " '11': 302,\n",
              " 'tell': 303,\n",
              " 'great': 304,\n",
              " 'film': 305,\n",
              " 'does': 306,\n",
              " 'former': 307,\n",
              " 'single': 308,\n",
              " 'entire': 309,\n",
              " 'friends': 310,\n",
              " 'fire': 311,\n",
              " 'call': 312,\n",
              " 'found': 313,\n",
              " 'friend': 314,\n",
              " 'wedding': 315,\n",
              " 'think': 316,\n",
              " 'book': 317,\n",
              " 'come': 318,\n",
              " 'republican': 319,\n",
              " 'girl': 320,\n",
              " 'find': 321,\n",
              " 'second': 322,\n",
              " 'must': 323,\n",
              " 'middle': 324,\n",
              " 'support': 325,\n",
              " 'speech': 326,\n",
              " 'morning': 327,\n",
              " 'public': 328,\n",
              " 'same': 329,\n",
              " 'photos': 330,\n",
              " 'use': 331,\n",
              " 'talk': 332,\n",
              " 'car': 333,\n",
              " 'sanders': 334,\n",
              " 'name': 335,\n",
              " 'keep': 336,\n",
              " 'run': 337,\n",
              " 'already': 338,\n",
              " 'presidential': 339,\n",
              " 'line': 340,\n",
              " 'thinks': 341,\n",
              " 'james': 342,\n",
              " 'looking': 343,\n",
              " 'republicans': 344,\n",
              " \"didn't\": 345,\n",
              " 'tax': 346,\n",
              " 'coming': 347,\n",
              " 'pretty': 348,\n",
              " 'case': 349,\n",
              " 'company': 350,\n",
              " 'email': 351,\n",
              " 'behind': 352,\n",
              " 'rights': 353,\n",
              " 'power': 354,\n",
              " 'open': 355,\n",
              " 'future': 356,\n",
              " 'marriage': 357,\n",
              " 'between': 358,\n",
              " 'releases': 359,\n",
              " 'violence': 360,\n",
              " 'christmas': 361,\n",
              " 'security': 362,\n",
              " '2016': 363,\n",
              " \"world's\": 364,\n",
              " 'used': 365,\n",
              " 'human': 366,\n",
              " 'voters': 367,\n",
              " 'once': 368,\n",
              " 'control': 369,\n",
              " 'goes': 370,\n",
              " 'group': 371,\n",
              " 'vote': 372,\n",
              " 'win': 373,\n",
              " 'might': 374,\n",
              " 'democrats': 375,\n",
              " 'killed': 376,\n",
              " 'student': 377,\n",
              " 'full': 378,\n",
              " 'something': 379,\n",
              " 'doing': 380,\n",
              " 'secret': 381,\n",
              " 'asks': 382,\n",
              " 'fans': 383,\n",
              " '12': 384,\n",
              " 'having': 385,\n",
              " 'team': 386,\n",
              " 'bernie': 387,\n",
              " 'department': 388,\n",
              " 'room': 389,\n",
              " 'ban': 390,\n",
              " 'twitter': 391,\n",
              " 'ad': 392,\n",
              " 'because': 393,\n",
              " 'poll': 394,\n",
              " 'teacher': 395,\n",
              " 'female': 396,\n",
              " 'post': 397,\n",
              " 'inside': 398,\n",
              " 'ryan': 399,\n",
              " 'race': 400,\n",
              " 'each': 401,\n",
              " 'wife': 402,\n",
              " 'sure': 403,\n",
              " 'music': 404,\n",
              " 'three': 405,\n",
              " 'meet': 406,\n",
              " 'record': 407,\n",
              " 'forced': 408,\n",
              " 'claims': 409,\n",
              " 'boy': 410,\n",
              " 'missing': 411,\n",
              " 'art': 412,\n",
              " 'political': 413,\n",
              " 'perfect': 414,\n",
              " 'head': 415,\n",
              " 'super': 416,\n",
              " '15': 417,\n",
              " 'very': 418,\n",
              " 'photo': 419,\n",
              " 'many': 420,\n",
              " 'reports': 421,\n",
              " 'unveils': 422,\n",
              " 'red': 423,\n",
              " 'father': 424,\n",
              " 'save': 425,\n",
              " 'class': 426,\n",
              " 'scientists': 427,\n",
              " 'judge': 428,\n",
              " 'days': 429,\n",
              " 'running': 430,\n",
              " 'country': 431,\n",
              " 'person': 432,\n",
              " 'living': 433,\n",
              " 'tells': 434,\n",
              " 'social': 435,\n",
              " 'month': 436,\n",
              " 'plans': 437,\n",
              " 'minutes': 438,\n",
              " 'put': 439,\n",
              " 'summer': 440,\n",
              " 'everything': 441,\n",
              " 'dies': 442,\n",
              " 'california': 443,\n",
              " 'until': 444,\n",
              " 'obamacare': 445,\n",
              " 'states': 446,\n",
              " 'here': 447,\n",
              " 'pay': 448,\n",
              " 'ready': 449,\n",
              " 'texas': 450,\n",
              " 'were': 451,\n",
              " 'michael': 452,\n",
              " 'always': 453,\n",
              " 'looks': 454,\n",
              " 'employee': 455,\n",
              " 'talks': 456,\n",
              " 'candidate': 457,\n",
              " 'needs': 458,\n",
              " 'did': 459,\n",
              " 'eating': 460,\n",
              " 'list': 461,\n",
              " 'justice': 462,\n",
              " 'secretary': 463,\n",
              " 'shot': 464,\n",
              " 'hot': 465,\n",
              " 'warns': 466,\n",
              " 'working': 467,\n",
              " 'times': 468,\n",
              " 'water': 469,\n",
              " 'comes': 470,\n",
              " 'past': 471,\n",
              " 'admits': 472,\n",
              " 'set': 473,\n",
              " 'taking': 474,\n",
              " 'wall': 475,\n",
              " 'heart': 476,\n",
              " 'ceo': 477,\n",
              " 'thought': 478,\n",
              " 'lives': 479,\n",
              " 'left': 480,\n",
              " 'mike': 481,\n",
              " 'mother': 482,\n",
              " 'start': 483,\n",
              " 'town': 484,\n",
              " 'gives': 485,\n",
              " '30': 486,\n",
              " 'let': 487,\n",
              " 'cruz': 488,\n",
              " 'ex': 489,\n",
              " \"'i\": 490,\n",
              " \"women's\": 491,\n",
              " 'kim': 492,\n",
              " 'age': 493,\n",
              " 'russia': 494,\n",
              " 'idea': 495,\n",
              " 'drug': 496,\n",
              " 'chief': 497,\n",
              " 'phone': 498,\n",
              " \"you're\": 499,\n",
              " 'cancer': 500,\n",
              " 'george': 501,\n",
              " 'crisis': 502,\n",
              " 'service': 503,\n",
              " 'biden': 504,\n",
              " 'wins': 505,\n",
              " 'hours': 506,\n",
              " \"i'm\": 507,\n",
              " 'letter': 508,\n",
              " 'south': 509,\n",
              " 'korea': 510,\n",
              " 'lost': 511,\n",
              " 'breaking': 512,\n",
              " 'daughter': 513,\n",
              " 'air': 514,\n",
              " '50': 515,\n",
              " 'wrong': 516,\n",
              " 'probably': 517,\n",
              " 'tips': 518,\n",
              " 'young': 519,\n",
              " 'meeting': 520,\n",
              " 'fbi': 521,\n",
              " 'street': 522,\n",
              " 'dream': 523,\n",
              " 'percent': 524,\n",
              " 'education': 525,\n",
              " 'isis': 526,\n",
              " 'romney': 527,\n",
              " 'word': 528,\n",
              " 'thousands': 529,\n",
              " 'restaurant': 530,\n",
              " 'small': 531,\n",
              " 'nuclear': 532,\n",
              " 'fucking': 533,\n",
              " 'yet': 534,\n",
              " 'kill': 535,\n",
              " 'today': 536,\n",
              " 'believe': 537,\n",
              " 'together': 538,\n",
              " 'half': 539,\n",
              " 'someone': 540,\n",
              " 'ted': 541,\n",
              " 'hard': 542,\n",
              " 'questions': 543,\n",
              " 'military': 544,\n",
              " 'administration': 545,\n",
              " 'king': 546,\n",
              " 'owner': 547,\n",
              " 'feel': 548,\n",
              " 'cat': 549,\n",
              " 'leaves': 550,\n",
              " 'march': 551,\n",
              " 'internet': 552,\n",
              " \"she's\": 553,\n",
              " 'few': 554,\n",
              " 'officials': 555,\n",
              " 'third': 556,\n",
              " 'nothing': 557,\n",
              " 'director': 558,\n",
              " 'federal': 559,\n",
              " 'sleep': 560,\n",
              " 'chris': 561,\n",
              " 'fan': 562,\n",
              " 'place': 563,\n",
              " \"what's\": 564,\n",
              " 'washington': 565,\n",
              " 'guide': 566,\n",
              " 'talking': 567,\n",
              " 'online': 568,\n",
              " 'attacks': 569,\n",
              " 'rock': 570,\n",
              " 'muslim': 571,\n",
              " 'earth': 572,\n",
              " 'giving': 573,\n",
              " 'move': 574,\n",
              " 'lot': 575,\n",
              " 'florida': 576,\n",
              " 'ask': 577,\n",
              " 'iran': 578,\n",
              " 'latest': 579,\n",
              " 'series': 580,\n",
              " 'holiday': 581,\n",
              " 'congressman': 582,\n",
              " 'community': 583,\n",
              " 'abortion': 584,\n",
              " 'well': 585,\n",
              " 'order': 586,\n",
              " 'buy': 587,\n",
              " 'less': 588,\n",
              " 'months': 589,\n",
              " 'majority': 590,\n",
              " 'birthday': 591,\n",
              " 'hour': 592,\n",
              " 't': 593,\n",
              " 'prison': 594,\n",
              " '2015': 595,\n",
              " 'outside': 596,\n",
              " 'problem': 597,\n",
              " 'leave': 598,\n",
              " 'assault': 599,\n",
              " 'those': 600,\n",
              " 'shit': 601,\n",
              " 'travel': 602,\n",
              " 'hollywood': 603,\n",
              " 'wearing': 604,\n",
              " 'beautiful': 605,\n",
              " 'personal': 606,\n",
              " \"isn't\": 607,\n",
              " 'reason': 608,\n",
              " 'bar': 609,\n",
              " 'francis': 610,\n",
              " 'told': 611,\n",
              " 'democratic': 612,\n",
              " 'different': 613,\n",
              " 'favorite': 614,\n",
              " 'cover': 615,\n",
              " 'girlfriend': 616,\n",
              " 'rules': 617,\n",
              " 'rise': 618,\n",
              " 'ice': 619,\n",
              " 'happy': 620,\n",
              " 'fox': 621,\n",
              " 'fun': 622,\n",
              " 'special': 623,\n",
              " 'mark': 624,\n",
              " 'issues': 625,\n",
              " 'system': 626,\n",
              " 'read': 627,\n",
              " 'reasons': 628,\n",
              " 'girls': 629,\n",
              " 'straight': 630,\n",
              " 'play': 631,\n",
              " \"america's\": 632,\n",
              " 'al': 633,\n",
              " 'celebrates': 634,\n",
              " \"obama's\": 635,\n",
              " 'thinking': 636,\n",
              " 'hate': 637,\n",
              " 'excited': 638,\n",
              " 'relationship': 639,\n",
              " 'trip': 640,\n",
              " 'hit': 641,\n",
              " 'response': 642,\n",
              " 'huffpost': 643,\n",
              " 'knows': 644,\n",
              " 'russian': 645,\n",
              " 'watching': 646,\n",
              " 'immigration': 647,\n",
              " 'protest': 648,\n",
              " 'scott': 649,\n",
              " 'following': 650,\n",
              " '100': 651,\n",
              " 'minute': 652,\n",
              " 'front': 653,\n",
              " 'message': 654,\n",
              " 'trailer': 655,\n",
              " 'stars': 656,\n",
              " 'leaders': 657,\n",
              " 'stephen': 658,\n",
              " 'hair': 659,\n",
              " 'huge': 660,\n",
              " 'gift': 661,\n",
              " 'david': 662,\n",
              " 'union': 663,\n",
              " 'using': 664,\n",
              " 'offers': 665,\n",
              " 'kind': 666,\n",
              " 'kid': 667,\n",
              " 'since': 668,\n",
              " 'moment': 669,\n",
              " 'china': 670,\n",
              " 'chinese': 671,\n",
              " 'birth': 672,\n",
              " 'non': 673,\n",
              " 'cop': 674,\n",
              " 'visit': 675,\n",
              " 'store': 676,\n",
              " 'box': 677,\n",
              " 'lessons': 678,\n",
              " 'late': 679,\n",
              " 'hope': 680,\n",
              " 'accused': 681,\n",
              " 'taylor': 682,\n",
              " 'date': 683,\n",
              " 'career': 684,\n",
              " 'interview': 685,\n",
              " 'himself': 686,\n",
              " 'politics': 687,\n",
              " 'weekend': 688,\n",
              " 'called': 689,\n",
              " 'victims': 690,\n",
              " 'least': 691,\n",
              " 'bring': 692,\n",
              " 'senator': 693,\n",
              " 'whole': 694,\n",
              " 'tom': 695,\n",
              " 'conversation': 696,\n",
              " 'adorable': 697,\n",
              " 'waiting': 698,\n",
              " 'jimmy': 699,\n",
              " 'early': 700,\n",
              " 'break': 701,\n",
              " 'sports': 702,\n",
              " 'syria': 703,\n",
              " 'powerful': 704,\n",
              " 'drunk': 705,\n",
              " 'c': 706,\n",
              " 'point': 707,\n",
              " 'united': 708,\n",
              " 'leader': 709,\n",
              " 'anything': 710,\n",
              " 'become': 711,\n",
              " 'opens': 712,\n",
              " 'learned': 713,\n",
              " 'words': 714,\n",
              " 'millions': 715,\n",
              " 'k': 716,\n",
              " 'die': 717,\n",
              " 'fashion': 718,\n",
              " 'cops': 719,\n",
              " \"they're\": 720,\n",
              " 'reality': 721,\n",
              " 'billion': 722,\n",
              " 'fall': 723,\n",
              " 'investigation': 724,\n",
              " 'key': 725,\n",
              " 'true': 726,\n",
              " 'host': 727,\n",
              " 'returns': 728,\n",
              " 'joe': 729,\n",
              " 'syrian': 730,\n",
              " 'massive': 731,\n",
              " '40': 732,\n",
              " 'almost': 733,\n",
              " 'turn': 734,\n",
              " 'breaks': 735,\n",
              " 'driving': 736,\n",
              " 'mass': 737,\n",
              " 'global': 738,\n",
              " 'dating': 739,\n",
              " 'far': 740,\n",
              " 'policy': 741,\n",
              " 'schools': 742,\n",
              " 'stand': 743,\n",
              " 'trans': 744,\n",
              " 'totally': 745,\n",
              " 'dinner': 746,\n",
              " 'oil': 747,\n",
              " 'killing': 748,\n",
              " 'apple': 749,\n",
              " 'un': 750,\n",
              " 'awards': 751,\n",
              " 'queer': 752,\n",
              " 'worried': 753,\n",
              " 'kills': 754,\n",
              " 'iraq': 755,\n",
              " 'song': 756,\n",
              " 'dance': 757,\n",
              " 'turns': 758,\n",
              " 'spends': 759,\n",
              " 'stage': 760,\n",
              " 'sign': 761,\n",
              " 'candidates': 762,\n",
              " 'j': 763,\n",
              " 'vows': 764,\n",
              " 'risk': 765,\n",
              " 'bus': 766,\n",
              " 'low': 767,\n",
              " 'names': 768,\n",
              " 'final': 769,\n",
              " 'planned': 770,\n",
              " 'feels': 771,\n",
              " 'anniversary': 772,\n",
              " 'lgbt': 773,\n",
              " 'puts': 774,\n",
              " 'signs': 775,\n",
              " 'tweets': 776,\n",
              " 'murder': 777,\n",
              " 'seen': 778,\n",
              " 'prince': 779,\n",
              " 'reportedly': 780,\n",
              " 'hits': 781,\n",
              " 'light': 782,\n",
              " 'sick': 783,\n",
              " 'd': 784,\n",
              " 'worst': 785,\n",
              " 'surprise': 786,\n",
              " 'hands': 787,\n",
              " 'transgender': 788,\n",
              " 'weird': 789,\n",
              " 'nfl': 790,\n",
              " 'return': 791,\n",
              " 'moving': 792,\n",
              " \"there's\": 793,\n",
              " 'jr': 794,\n",
              " 'pence': 795,\n",
              " 'mind': 796,\n",
              " 'center': 797,\n",
              " 'decision': 798,\n",
              " 'adds': 799,\n",
              " 'longer': 800,\n",
              " 'workers': 801,\n",
              " 'advice': 802,\n",
              " 'crash': 803,\n",
              " 'near': 804,\n",
              " 'eat': 805,\n",
              " 'struggling': 806,\n",
              " 'oscar': 807,\n",
              " 'across': 808,\n",
              " 'style': 809,\n",
              " 'kardashian': 810,\n",
              " 'employees': 811,\n",
              " 'test': 812,\n",
              " '13': 813,\n",
              " 'cut': 814,\n",
              " 'keeps': 815,\n",
              " 'band': 816,\n",
              " 'industry': 817,\n",
              " 'experience': 818,\n",
              " 'side': 819,\n",
              " 'coffee': 820,\n",
              " 'check': 821,\n",
              " '2014': 822,\n",
              " 'worth': 823,\n",
              " 'number': 824,\n",
              " 'rubio': 825,\n",
              " 'brings': 826,\n",
              " 'discover': 827,\n",
              " 'door': 828,\n",
              " 'lead': 829,\n",
              " 'five': 830,\n",
              " 'completely': 831,\n",
              " 'hoping': 832,\n",
              " 'university': 833,\n",
              " '2017': 834,\n",
              " 'official': 835,\n",
              " 'starting': 836,\n",
              " 'lose': 837,\n",
              " 'whether': 838,\n",
              " 'force': 839,\n",
              " 'paris': 840,\n",
              " 'weight': 841,\n",
              " 'road': 842,\n",
              " 'space': 843,\n",
              " 'west': 844,\n",
              " 'audience': 845,\n",
              " 'important': 846,\n",
              " 'hand': 847,\n",
              " 'steve': 848,\n",
              " 'playing': 849,\n",
              " 'reform': 850,\n",
              " 'cool': 851,\n",
              " 'fighting': 852,\n",
              " 'suspect': 853,\n",
              " 'given': 854,\n",
              " 'defense': 855,\n",
              " 'program': 856,\n",
              " 'artist': 857,\n",
              " 'nyc': 858,\n",
              " 'williams': 859,\n",
              " 'role': 860,\n",
              " 'building': 861,\n",
              " 'michelle': 862,\n",
              " 'peace': 863,\n",
              " 'carolina': 864,\n",
              " 'chicago': 865,\n",
              " 'act': 866,\n",
              " 'pro': 867,\n",
              " 'possible': 868,\n",
              " 'apartment': 869,\n",
              " 'governor': 870,\n",
              " 'iowa': 871,\n",
              " 'executive': 872,\n",
              " 'success': 873,\n",
              " 'ferguson': 874,\n",
              " 'amazon': 875,\n",
              " 'biggest': 876,\n",
              " 'protesters': 877,\n",
              " 'suicide': 878,\n",
              " 'hall': 879,\n",
              " 'abuse': 880,\n",
              " 'which': 881,\n",
              " 'clearly': 882,\n",
              " 'major': 883,\n",
              " 'push': 884,\n",
              " 'hurricane': 885,\n",
              " 'allegations': 886,\n",
              " 'remember': 887,\n",
              " 'halloween': 888,\n",
              " 'oscars': 889,\n",
              " 'homeless': 890,\n",
              " 'israel': 891,\n",
              " 'general': 892,\n",
              " 'data': 893,\n",
              " 'mental': 894,\n",
              " 'coworker': 895,\n",
              " 'close': 896,\n",
              " 'question': 897,\n",
              " 'ben': 898,\n",
              " 'chance': 899,\n",
              " 'hear': 900,\n",
              " 'demands': 901,\n",
              " 'fear': 902,\n",
              " 'wishes': 903,\n",
              " 'opening': 904,\n",
              " 'members': 905,\n",
              " 'celebrate': 906,\n",
              " 'supporters': 907,\n",
              " 'google': 908,\n",
              " 'moore': 909,\n",
              " 'football': 910,\n",
              " 'voice': 911,\n",
              " 'easy': 912,\n",
              " 'teens': 913,\n",
              " 'card': 914,\n",
              " 'kerry': 915,\n",
              " 'wait': 916,\n",
              " 'moms': 917,\n",
              " 'try': 918,\n",
              " 'board': 919,\n",
              " 'throws': 920,\n",
              " 'magazine': 921,\n",
              " 'tour': 922,\n",
              " 'pizza': 923,\n",
              " 'dying': 924,\n",
              " 'press': 925,\n",
              " 'chicken': 926,\n",
              " 'urges': 927,\n",
              " 'reveal': 928,\n",
              " 'simple': 929,\n",
              " 'green': 930,\n",
              " 'economy': 931,\n",
              " 'problems': 932,\n",
              " 'culture': 933,\n",
              " 'lgbtq': 934,\n",
              " 'asking': 935,\n",
              " 'ebola': 936,\n",
              " 'robert': 937,\n",
              " 'learn': 938,\n",
              " 'performance': 939,\n",
              " 'album': 940,\n",
              " 'church': 941,\n",
              " 'begins': 942,\n",
              " 'officer': 943,\n",
              " 'shop': 944,\n",
              " 'poor': 945,\n",
              " 'uses': 946,\n",
              " 'plane': 947,\n",
              " 'families': 948,\n",
              " 'harassment': 949,\n",
              " 'picture': 950,\n",
              " 'jobs': 951,\n",
              " 'sean': 952,\n",
              " 'voter': 953,\n",
              " 'beauty': 954,\n",
              " 'doctor': 955,\n",
              " 'spot': 956,\n",
              " 'shares': 957,\n",
              " 'leads': 958,\n",
              " 'hilarious': 959,\n",
              " 'pregnant': 960,\n",
              " 'suggests': 961,\n",
              " 'rally': 962,\n",
              " 'results': 963,\n",
              " '18': 964,\n",
              " 'jenner': 965,\n",
              " 'arrested': 966,\n",
              " 'male': 967,\n",
              " 'leaving': 968,\n",
              " 'address': 969,\n",
              " 'rest': 970,\n",
              " 'receives': 971,\n",
              " 'amid': 972,\n",
              " 'epa': 973,\n",
              " 'deadly': 974,\n",
              " 'netflix': 975,\n",
              " 'desperate': 976,\n",
              " 'planet': 977,\n",
              " 'cnn': 978,\n",
              " 'marijuana': 979,\n",
              " 'quietly': 980,\n",
              " 'fails': 981,\n",
              " 'demand': 982,\n",
              " 'action': 983,\n",
              " 'website': 984,\n",
              " 'pick': 985,\n",
              " \"we're\": 986,\n",
              " 'explains': 987,\n",
              " 'table': 988,\n",
              " 'energy': 989,\n",
              " 'users': 990,\n",
              " 'feeling': 991,\n",
              " 'sales': 992,\n",
              " 'colbert': 993,\n",
              " 'apparently': 994,\n",
              " \"let's\": 995,\n",
              " 'amazing': 996,\n",
              " 'went': 997,\n",
              " 'budget': 998,\n",
              " 'worse': 999,\n",
              " 'ideas': 1000,\n",
              " ...}"
            ]
          },
          "metadata": {
            "tags": []
          },
          "execution_count": 31
        }
      ]
    },
    {
      "cell_type": "markdown",
      "metadata": {
        "colab_type": "text",
        "id": "5hjeMi40XcB1"
      },
      "source": [
        "# Word Embedding"
      ]
    },
    {
      "cell_type": "markdown",
      "metadata": {
        "colab_type": "text",
        "id": "bUF1TuQa8ux0"
      },
      "source": [
        "## Get Glove Word Embeddings"
      ]
    },
    {
      "cell_type": "code",
      "metadata": {
        "colab_type": "code",
        "id": "vq5AIfRtMeZh",
        "colab": {}
      },
      "source": [
        "glove_file = project_path + \"glove.6B.zip\""
      ],
      "execution_count": null,
      "outputs": []
    },
    {
      "cell_type": "code",
      "metadata": {
        "id": "3rtgNUt5mMNI",
        "colab_type": "code",
        "colab": {
          "base_uri": "https://localhost:8080/",
          "height": 34
        },
        "outputId": "192ef964-0dc1-4176-eabb-279877a94416"
      },
      "source": [
        "glove_file"
      ],
      "execution_count": null,
      "outputs": [
        {
          "output_type": "execute_result",
          "data": {
            "text/plain": [
              "'/content/drive/My Drive/Paridhi_Colab/Sequential NLP Project/glove.6B.zip'"
            ]
          },
          "metadata": {
            "tags": []
          },
          "execution_count": 33
        }
      ]
    },
    {
      "cell_type": "code",
      "metadata": {
        "colab_type": "code",
        "id": "DJLX_n2WMecA",
        "colab": {}
      },
      "source": [
        "#Extract Glove embedding zip file\n",
        "from zipfile import ZipFile\n",
        "with ZipFile(glove_file, 'r') as z:\n",
        "  z.extractall()"
      ],
      "execution_count": null,
      "outputs": []
    },
    {
      "cell_type": "markdown",
      "metadata": {
        "colab_type": "text",
        "id": "9IuXlu8-U3HG"
      },
      "source": [
        "# Get the Word Embeddings using Embedding file "
      ]
    },
    {
      "cell_type": "code",
      "metadata": {
        "id": "r4XQ4mfghVao",
        "colab_type": "code",
        "colab": {
          "base_uri": "https://localhost:8080/",
          "height": 51
        },
        "outputId": "2a3d9a4d-2a9c-4035-ccef-629a1eea7171"
      },
      "source": [
        "!ls"
      ],
      "execution_count": null,
      "outputs": [
        {
          "output_type": "stream",
          "text": [
            "drive\t\t   glove.6B.200d.txt  glove.6B.50d.txt\n",
            "glove.6B.100d.txt  glove.6B.300d.txt  sample_data\n"
          ],
          "name": "stdout"
        }
      ]
    },
    {
      "cell_type": "code",
      "metadata": {
        "id": "hSNu8SRNhQS4",
        "colab_type": "code",
        "colab": {}
      },
      "source": [
        "EMBEDDING_FILE = '/content/glove.6B.200d.txt' "
      ],
      "execution_count": null,
      "outputs": []
    },
    {
      "cell_type": "code",
      "metadata": {
        "colab_type": "code",
        "id": "elZ-T5aFGZmZ",
        "colab": {}
      },
      "source": [
        "embeddings = {}\n",
        "for o in open(EMBEDDING_FILE):\n",
        "    word = o.split(\" \")[0]\n",
        "    # print(word)\n",
        "    embd = o.split(\" \")[1:]\n",
        "    embd = np.asarray(embd, dtype='float32')\n",
        "    # print(embd)\n",
        "    embeddings[word] = embd\n",
        "\n"
      ],
      "execution_count": null,
      "outputs": []
    },
    {
      "cell_type": "markdown",
      "metadata": {
        "colab_type": "text",
        "id": "bTPxveDmVCrA"
      },
      "source": [
        "# a weight matrix for words "
      ]
    },
    {
      "cell_type": "code",
      "metadata": {
        "id": "DjSrtZmgkXVO",
        "colab_type": "code",
        "colab": {}
      },
      "source": [
        "num_words = vocab_size +1"
      ],
      "execution_count": null,
      "outputs": []
    },
    {
      "cell_type": "code",
      "metadata": {
        "colab_type": "code",
        "id": "xQgOhiywU9nU",
        "colab": {
          "base_uri": "https://localhost:8080/",
          "height": 34
        },
        "outputId": "b51e55aa-272b-4249-92a1-54a8efdd6a53"
      },
      "source": [
        "embedding_matrix = np.zeros((num_words, 200))\n",
        "\n",
        "for word, i in tokenizer.word_index.items():\n",
        "    embedding_vector = embeddings.get(word)\n",
        "    if embedding_vector is not None:\n",
        "      embedding_matrix[i] = embedding_vector\n",
        "\n",
        "len(embeddings.values())"
      ],
      "execution_count": null,
      "outputs": [
        {
          "output_type": "execute_result",
          "data": {
            "text/plain": [
              "400000"
            ]
          },
          "metadata": {
            "tags": []
          },
          "execution_count": 39
        }
      ]
    },
    {
      "cell_type": "markdown",
      "metadata": {
        "colab_type": "text",
        "id": "u7IbWuEX82Ra"
      },
      "source": [
        "## Create and Compile your Model  \n",
        "\n"
      ]
    },
    {
      "cell_type": "code",
      "metadata": {
        "id": "9e-GmJZn0gZo",
        "colab_type": "code",
        "colab": {}
      },
      "source": [
        "#Initialize model\n",
        "backend.clear_session()\n",
        "model = Sequential()"
      ],
      "execution_count": null,
      "outputs": []
    },
    {
      "cell_type": "code",
      "metadata": {
        "colab_type": "code",
        "id": "d7jhsSgYXG4l",
        "colab": {}
      },
      "source": [
        "### Embedding layer for hint \n",
        "## model.add(Embedding(num_words, embedding_size, weights = [embedding_matrix]))\n",
        "model.add(Embedding(num_words, embedding_size, weights = [embedding_matrix]))\n",
        "\n",
        "model.add(Dropout(0.2))\n",
        "\n",
        "### Bidirectional LSTM layer for hint \n",
        "## model.add(Bidirectional(LSTM(128, return_sequences = True)))\n",
        "model.add(Bidirectional(LSTM(128, return_sequences=True)))\n",
        "\n",
        "model.add(Dropout(0.2))\n",
        "\n",
        "model.add(Dense(1,activation='sigmoid'))\n"
      ],
      "execution_count": null,
      "outputs": []
    },
    {
      "cell_type": "code",
      "metadata": {
        "id": "wbvnnEDC1iSV",
        "colab_type": "code",
        "colab": {
          "base_uri": "https://localhost:8080/",
          "height": 34
        },
        "outputId": "1f7bb9d9-8945-426a-a0a3-47808e33b37a"
      },
      "source": [
        "model.output"
      ],
      "execution_count": null,
      "outputs": [
        {
          "output_type": "execute_result",
          "data": {
            "text/plain": [
              "<tf.Tensor 'dense/Identity:0' shape=(None, None, 1) dtype=float32>"
            ]
          },
          "metadata": {
            "tags": []
          },
          "execution_count": 42
        }
      ]
    },
    {
      "cell_type": "code",
      "metadata": {
        "id": "5H_7_E5e2Pms",
        "colab_type": "code",
        "colab": {
          "base_uri": "https://localhost:8080/",
          "height": 323
        },
        "outputId": "94c06237-f6c5-4dbc-c5e7-2e6fceb2db54"
      },
      "source": [
        "model.summary()"
      ],
      "execution_count": null,
      "outputs": [
        {
          "output_type": "stream",
          "text": [
            "Model: \"sequential\"\n",
            "_________________________________________________________________\n",
            "Layer (type)                 Output Shape              Param #   \n",
            "=================================================================\n",
            "embedding (Embedding)        (None, None, 200)         5931400   \n",
            "_________________________________________________________________\n",
            "dropout (Dropout)            (None, None, 200)         0         \n",
            "_________________________________________________________________\n",
            "bidirectional (Bidirectional (None, None, 256)         336896    \n",
            "_________________________________________________________________\n",
            "dropout_1 (Dropout)          (None, None, 256)         0         \n",
            "_________________________________________________________________\n",
            "dense (Dense)                (None, None, 1)           257       \n",
            "=================================================================\n",
            "Total params: 6,268,553\n",
            "Trainable params: 6,268,553\n",
            "Non-trainable params: 0\n",
            "_________________________________________________________________\n"
          ],
          "name": "stdout"
        }
      ]
    },
    {
      "cell_type": "code",
      "metadata": {
        "id": "d3PLjdHB2VXI",
        "colab_type": "code",
        "colab": {}
      },
      "source": [
        "#Compile the model\n",
        "model.compile(optimizer='adam',loss='binary_crossentropy',metrics=['accuracy'])"
      ],
      "execution_count": null,
      "outputs": []
    },
    {
      "cell_type": "markdown",
      "metadata": {
        "colab_type": "text",
        "id": "IJFMxZwMWoTw"
      },
      "source": [
        "# Fit the model \n"
      ]
    },
    {
      "cell_type": "code",
      "metadata": {
        "colab_type": "code",
        "id": "ZpVkajCcWnRK",
        "colab": {}
      },
      "source": [
        "batch_size = 100\n",
        "epochs = 5\n",
        "\n",
        "## Add your code here ##"
      ],
      "execution_count": null,
      "outputs": []
    },
    {
      "cell_type": "code",
      "metadata": {
        "id": "noiQE6vf2nHu",
        "colab_type": "code",
        "colab": {}
      },
      "source": [
        "from sklearn.model_selection import train_test_split\n",
        "X_train, X_test, y_train, y_test = train_test_split(X,y,test_size=0.2,random_state=42)"
      ],
      "execution_count": null,
      "outputs": []
    },
    {
      "cell_type": "code",
      "metadata": {
        "id": "CvKd3ewf2dA5",
        "colab_type": "code",
        "colab": {
          "base_uri": "https://localhost:8080/",
          "height": 221
        },
        "outputId": "42f40994-075e-4772-88cd-bcc65ae5f82f"
      },
      "source": [
        "model.fit(X_train,y_train,epochs=epochs ,batch_size=batch_size,validation_data=(X_test, y_test),verbose = 1)"
      ],
      "execution_count": null,
      "outputs": [
        {
          "output_type": "stream",
          "text": [
            "Train on 21281 samples, validate on 5321 samples\n",
            "Epoch 1/5\n",
            "21281/21281 [==============================] - 576s 27ms/sample - loss: 0.6454 - accuracy: 0.6264 - val_loss: 0.6798 - val_accuracy: 0.5562\n",
            "Epoch 2/5\n",
            "21281/21281 [==============================] - 581s 27ms/sample - loss: 0.6018 - accuracy: 0.6743 - val_loss: 0.5083 - val_accuracy: 0.7869\n",
            "Epoch 3/5\n",
            "21281/21281 [==============================] - 555s 26ms/sample - loss: 0.6666 - accuracy: 0.5869 - val_loss: 0.6761 - val_accuracy: 0.5577\n",
            "Epoch 4/5\n",
            "21281/21281 [==============================] - 563s 26ms/sample - loss: 0.6600 - accuracy: 0.5913 - val_loss: 0.5136 - val_accuracy: 0.7879\n",
            "Epoch 5/5\n",
            "21281/21281 [==============================] - 573s 27ms/sample - loss: 0.4996 - accuracy: 0.7692 - val_loss: 0.4808 - val_accuracy: 0.8161\n"
          ],
          "name": "stdout"
        },
        {
          "output_type": "execute_result",
          "data": {
            "text/plain": [
              "<tensorflow.python.keras.callbacks.History at 0x7fe0f18ec978>"
            ]
          },
          "metadata": {
            "tags": []
          },
          "execution_count": 47
        }
      ]
    }
  ]
}